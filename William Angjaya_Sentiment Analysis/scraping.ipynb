{
 "cells": [
  {
   "cell_type": "markdown",
   "metadata": {},
   "source": [
    "## Data Scraping -- Indodax"
   ]
  },
  {
   "cell_type": "markdown",
   "metadata": {},
   "source": [
    "Install library untuk data scraping"
   ]
  },
  {
   "cell_type": "code",
   "execution_count": 1,
   "metadata": {},
   "outputs": [
    {
     "name": "stdout",
     "output_type": "stream",
     "text": [
      "Requirement already satisfied: google-play-scraper in c:\\users\\willi\\anaconda3\\lib\\site-packages (1.2.7)\n"
     ]
    }
   ],
   "source": [
    "!pip install google-play-scraper"
   ]
  },
  {
   "cell_type": "code",
   "execution_count": 2,
   "metadata": {},
   "outputs": [],
   "source": [
    "from google_play_scraper import Sort, reviews_all\n",
    "import pandas as pd"
   ]
  },
  {
   "cell_type": "markdown",
   "metadata": {},
   "source": [
    "Saya akan data scraping untuk app Indodax, maka disini saya ambil app ID untuk Indodax"
   ]
  },
  {
   "cell_type": "code",
   "execution_count": 3,
   "metadata": {},
   "outputs": [],
   "source": [
    "app_id = 'id.co.bitcoin'"
   ]
  },
  {
   "cell_type": "markdown",
   "metadata": {},
   "source": [
    "Scrape 20ribu data sample"
   ]
  },
  {
   "cell_type": "code",
   "execution_count": 4,
   "metadata": {},
   "outputs": [],
   "source": [
    "try:\n",
    "    result = reviews_all(\n",
    "        app_id,\n",
    "        sleep_milliseconds=0,\n",
    "        lang='id', # karena aplikasi berbasis bahasa indonesia, pasang value lang sebagai id\n",
    "        country='id', # aplikasi ini dari indonesia\n",
    "        sort=Sort.MOST_RELEVANT, # kita ambil review yang relevan\n",
    "        filter_score_with=None # kita harus semua score\n",
    "    )\n",
    "\n",
    "    # ambil 10ribu review\n",
    "    result = result[:20000]\n",
    "\n",
    "    df = pd.DataFrame(result)\n",
    "\n",
    "    # data yang di scrape disimpan dalam csv\n",
    "    df.to_csv('indodax_review.csv', index=False)\n",
    "except:\n",
    "  print(\"Gagal bikin csv nya\")"
   ]
  },
  {
   "cell_type": "markdown",
   "metadata": {},
   "source": [
    "Hasil scraping disimpan dalam indodax_review.csv"
   ]
  }
 ],
 "metadata": {
  "kernelspec": {
   "display_name": "base",
   "language": "python",
   "name": "python3"
  },
  "language_info": {
   "codemirror_mode": {
    "name": "ipython",
    "version": 3
   },
   "file_extension": ".py",
   "mimetype": "text/x-python",
   "name": "python",
   "nbconvert_exporter": "python",
   "pygments_lexer": "ipython3",
   "version": "3.11.7"
  }
 },
 "nbformat": 4,
 "nbformat_minor": 2
}
